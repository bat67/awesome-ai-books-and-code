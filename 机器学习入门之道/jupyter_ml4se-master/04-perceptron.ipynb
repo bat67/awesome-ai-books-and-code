{
 "cells": [
  {
   "cell_type": "markdown",
   "metadata": {},
   "source": [
    "# 第4章 パーセプトロン：分類アルゴリズムの基礎"
   ]
  },
  {
   "cell_type": "markdown",
   "metadata": {},
   "source": [
    "## 「04-perceptron」の解説"
   ]
  },
  {
   "cell_type": "markdown",
   "metadata": {},
   "source": [
    "ITエンジニアための機械学習理論入門「第4章 パーセプトロン:分類アルゴリズムの基礎」で使用しているサンプルコード「04-perceptron.py」の解説です。\n",
    "\n",
    "※ 解説用にコードの内容は少し変更しています。"
   ]
  },
  {
   "cell_type": "markdown",
   "metadata": {},
   "source": [
    "### 分類が容易なトレーニングセットの場合"
   ]
  },
  {
   "cell_type": "markdown",
   "metadata": {},
   "source": [
    "はじめに必要なモジュールをインポートしておきます。\n",
    "\n",
    "関数 multivariate_normal は、多次元の正規分布に従う乱数を生成するために利用します。"
   ]
  },
  {
   "cell_type": "code",
   "execution_count": 1,
   "metadata": {
    "collapsed": false
   },
   "outputs": [],
   "source": [
    "import numpy as np\n",
    "import matplotlib.pyplot as plt\n",
    "import pandas as pd\n",
    "from pandas import Series, DataFrame\n",
    "\n",
    "from numpy.random import multivariate_normal"
   ]
  },
  {
   "cell_type": "markdown",
   "metadata": {},
   "source": [
    "トレーニング用データを生成する関数を用意します。\n",
    "\n",
    "平面上の○☓の2種類のデータについて、それぞれの「個数、中心座標、分散」を引数で指定します。"
   ]
  },
  {
   "cell_type": "code",
   "execution_count": 2,
   "metadata": {
    "collapsed": true
   },
   "outputs": [],
   "source": [
    "def prepare_dataset(n1, mu1, variance1, n2, mu2, variance2):\n",
    "    df1 = DataFrame(multivariate_normal(mu1, np.eye(2)*variance1 ,n1),\n",
    "                    columns=['x','y'])\n",
    "    df1['type'] = 1\n",
    "    df2 = DataFrame(multivariate_normal(mu2, np.eye(2)*variance2, n2),\n",
    "                    columns=['x','y'])\n",
    "    df2['type'] = -1\n",
    "    df = pd.concat([df1,df2], ignore_index=True)\n",
    "    df = df.reindex(np.random.permutation(df.index)).reset_index(drop=True)\n",
    "    return df"
   ]
  },
  {
   "cell_type": "markdown",
   "metadata": {},
   "source": [
    "実際にデータを作成します。"
   ]
  },
  {
   "cell_type": "code",
   "execution_count": 3,
   "metadata": {
    "collapsed": false
   },
   "outputs": [],
   "source": [
    "train_set = prepare_dataset(20, [15,10], 15, 30, [0,0], 15)"
   ]
  },
  {
   "cell_type": "markdown",
   "metadata": {},
   "source": [
    "先頭から10個分のデータを確認してみます。\n",
    "\n",
    "type=±1 がデータの種類に対応します。"
   ]
  },
  {
   "cell_type": "code",
   "execution_count": 4,
   "metadata": {
    "collapsed": false
   },
   "outputs": [
    {
     "data": {
      "text/html": [
       "<div>\n",
       "<table border=\"1\" class=\"dataframe\">\n",
       "  <thead>\n",
       "    <tr style=\"text-align: right;\">\n",
       "      <th></th>\n",
       "      <th>x</th>\n",
       "      <th>y</th>\n",
       "      <th>type</th>\n",
       "    </tr>\n",
       "  </thead>\n",
       "  <tbody>\n",
       "    <tr>\n",
       "      <th>0</th>\n",
       "      <td>1.635838</td>\n",
       "      <td>3.968282</td>\n",
       "      <td>-1</td>\n",
       "    </tr>\n",
       "    <tr>\n",
       "      <th>1</th>\n",
       "      <td>-1.005188</td>\n",
       "      <td>-3.095413</td>\n",
       "      <td>-1</td>\n",
       "    </tr>\n",
       "    <tr>\n",
       "      <th>2</th>\n",
       "      <td>15.090814</td>\n",
       "      <td>15.272880</td>\n",
       "      <td>1</td>\n",
       "    </tr>\n",
       "    <tr>\n",
       "      <th>3</th>\n",
       "      <td>-0.372209</td>\n",
       "      <td>0.155351</td>\n",
       "      <td>-1</td>\n",
       "    </tr>\n",
       "    <tr>\n",
       "      <th>4</th>\n",
       "      <td>2.459536</td>\n",
       "      <td>-2.065882</td>\n",
       "      <td>-1</td>\n",
       "    </tr>\n",
       "    <tr>\n",
       "      <th>5</th>\n",
       "      <td>10.270439</td>\n",
       "      <td>7.004335</td>\n",
       "      <td>1</td>\n",
       "    </tr>\n",
       "    <tr>\n",
       "      <th>6</th>\n",
       "      <td>-3.321999</td>\n",
       "      <td>1.377542</td>\n",
       "      <td>-1</td>\n",
       "    </tr>\n",
       "    <tr>\n",
       "      <th>7</th>\n",
       "      <td>2.868246</td>\n",
       "      <td>-2.421557</td>\n",
       "      <td>-1</td>\n",
       "    </tr>\n",
       "    <tr>\n",
       "      <th>8</th>\n",
       "      <td>18.895631</td>\n",
       "      <td>8.771645</td>\n",
       "      <td>1</td>\n",
       "    </tr>\n",
       "    <tr>\n",
       "      <th>9</th>\n",
       "      <td>-1.367076</td>\n",
       "      <td>5.494247</td>\n",
       "      <td>-1</td>\n",
       "    </tr>\n",
       "  </tbody>\n",
       "</table>\n",
       "</div>"
      ],
      "text/plain": [
       "           x          y  type\n",
       "0   1.635838   3.968282    -1\n",
       "1  -1.005188  -3.095413    -1\n",
       "2  15.090814  15.272880     1\n",
       "3  -0.372209   0.155351    -1\n",
       "4   2.459536  -2.065882    -1\n",
       "5  10.270439   7.004335     1\n",
       "6  -3.321999   1.377542    -1\n",
       "7   2.868246  -2.421557    -1\n",
       "8  18.895631   8.771645     1\n",
       "9  -1.367076   5.494247    -1"
      ]
     },
     "execution_count": 4,
     "metadata": {},
     "output_type": "execute_result"
    }
   ],
   "source": [
    "train_set[:10]"
   ]
  },
  {
   "cell_type": "markdown",
   "metadata": {},
   "source": [
    "パーセプトロンによる分類を実施する関数を用意します。\n",
    "\n",
    "生成したトレーニングセットを引数で渡すと、30回のIterationを実施した後に、この間のパラメーターの変化を記録したリストと最終的な誤分類率を返します。"
   ]
  },
  {
   "cell_type": "code",
   "execution_count": 5,
   "metadata": {
    "collapsed": false
   },
   "outputs": [],
   "source": [
    "def run_train(train_set):\n",
    "    # パラメータの初期値とbias項の設定\n",
    "    w0 = w1 = w2 = 0.0\n",
    "    bias = 0.5 * (train_set.x.abs().mean() + train_set.y.abs().mean())\n",
    "\n",
    "    # Iterationを実施\n",
    "    paramhist = DataFrame([[w0,w1,w2]], columns=['w0','w1','w2'])\n",
    "    for i in range(30):\n",
    "        for index, point in train_set.iterrows():\n",
    "            x, y, type = point.x, point.y, point.type\n",
    "            if type * (w0*bias + w1*x + w2*y) <= 0:\n",
    "                w0 += type * bias\n",
    "                w1 += type * x\n",
    "                w2 += type * y\n",
    "        paramhist = paramhist.append(Series([w0,w1,w2], ['w0','w1','w2']),\n",
    "                                     ignore_index=True)\n",
    "    \n",
    "    # 判定誤差の計算\n",
    "    err = 0.0\n",
    "    for index, point in train_set.iterrows():\n",
    "        x, y, type = point.x, point.y, point.type\n",
    "        if type * (w0*bias + w1*x + w2*y) <= 0:\n",
    "            err += 1\n",
    "    err_rate = err * 100 / len(train_set)\n",
    "    \n",
    "    return paramhist, err_rate"
   ]
  },
  {
   "cell_type": "markdown",
   "metadata": {},
   "source": [
    "トレーニングを実施します。"
   ]
  },
  {
   "cell_type": "code",
   "execution_count": 6,
   "metadata": {
    "collapsed": false
   },
   "outputs": [],
   "source": [
    "paramhist, err_rate = run_train(train_set)"
   ]
  },
  {
   "cell_type": "markdown",
   "metadata": {},
   "source": [
    "パラメーターの変化の先頭部分を確認してみます。"
   ]
  },
  {
   "cell_type": "code",
   "execution_count": 7,
   "metadata": {
    "collapsed": false
   },
   "outputs": [
    {
     "data": {
      "text/html": [
       "<div>\n",
       "<table border=\"1\" class=\"dataframe\">\n",
       "  <thead>\n",
       "    <tr style=\"text-align: right;\">\n",
       "      <th></th>\n",
       "      <th>w0</th>\n",
       "      <th>w1</th>\n",
       "      <th>w2</th>\n",
       "    </tr>\n",
       "  </thead>\n",
       "  <tbody>\n",
       "    <tr>\n",
       "      <th>0</th>\n",
       "      <td>0.000000</td>\n",
       "      <td>0.000000</td>\n",
       "      <td>0.000000</td>\n",
       "    </tr>\n",
       "    <tr>\n",
       "      <th>1</th>\n",
       "      <td>-19.552465</td>\n",
       "      <td>8.062578</td>\n",
       "      <td>3.499797</td>\n",
       "    </tr>\n",
       "    <tr>\n",
       "      <th>2</th>\n",
       "      <td>-19.552465</td>\n",
       "      <td>13.851975</td>\n",
       "      <td>7.294369</td>\n",
       "    </tr>\n",
       "    <tr>\n",
       "      <th>3</th>\n",
       "      <td>-19.552465</td>\n",
       "      <td>13.851975</td>\n",
       "      <td>7.294369</td>\n",
       "    </tr>\n",
       "    <tr>\n",
       "      <th>4</th>\n",
       "      <td>-19.552465</td>\n",
       "      <td>13.851975</td>\n",
       "      <td>7.294369</td>\n",
       "    </tr>\n",
       "  </tbody>\n",
       "</table>\n",
       "</div>"
      ],
      "text/plain": [
       "          w0         w1        w2\n",
       "0   0.000000   0.000000  0.000000\n",
       "1 -19.552465   8.062578  3.499797\n",
       "2 -19.552465  13.851975  7.294369\n",
       "3 -19.552465  13.851975  7.294369\n",
       "4 -19.552465  13.851975  7.294369"
      ]
     },
     "execution_count": 7,
     "metadata": {},
     "output_type": "execute_result"
    }
   ],
   "source": [
    "paramhist[:5]"
   ]
  },
  {
   "cell_type": "markdown",
   "metadata": {},
   "source": [
    "分類結果をグラフに可視化する関数を用意します。"
   ]
  },
  {
   "cell_type": "code",
   "execution_count": 8,
   "metadata": {
    "collapsed": true
   },
   "outputs": [],
   "source": [
    "# 結果の表示\n",
    "def show_result(subplot, train_set, w0, w1, w2, err_rate):\n",
    "    train_set1 = train_set[train_set['type']==1]\n",
    "    train_set2 = train_set[train_set['type']==-1]\n",
    "    bias = 0.5 * (train_set.x.abs().mean() + train_set.y.abs().mean())\n",
    "    ymin, ymax = train_set.y.min()-5, train_set.y.max()+10\n",
    "    xmin, xmax = train_set.x.min()-5, train_set.x.max()+10\n",
    "\n",
    "    subplot.set_ylim([ymin-1, ymax+1])\n",
    "    subplot.set_xlim([xmin-1, xmax+1])\n",
    "    subplot.scatter(train_set1.x, train_set1.y, marker='o', label=None)\n",
    "    subplot.scatter(train_set2.x, train_set2.y, marker='x', label=None)\n",
    "\n",
    "    linex = np.arange(xmin-5, xmax+5)\n",
    "    liney = - linex * w1 / w2 - bias * w0 / w2\n",
    "    label = \"ERR %.2f%%\" % err_rate\n",
    "    subplot.plot(linex, liney, label=label, color='red')\n",
    "    subplot.legend(loc=1)"
   ]
  },
  {
   "cell_type": "markdown",
   "metadata": {},
   "source": [
    "分類結果をグラフに表示してみます。"
   ]
  },
  {
   "cell_type": "code",
   "execution_count": 9,
   "metadata": {
    "collapsed": false
   },
   "outputs": [
    {
     "data": {
      "image/png": "[encoded data removed]",
      "text/plain": [
       "<matplotlib.figure.Figure at 0x5dd4250>"
      ]
     },
     "metadata": {},
     "output_type": "display_data"
    }
   ],
   "source": [
    "fig = plt.figure()\n",
    "subplot = fig.add_subplot(1,1,1)\n",
    "params = paramhist[-1:]\n",
    "w0, w1, w2 = float(params.w0), float(params.w1), float(params.w2)\n",
    "show_result(subplot, train_set, w0, w1, w2, err_rate)"
   ]
  },
  {
   "cell_type": "markdown",
   "metadata": {},
   "source": [
    "同じくパラメーターの変化の様子をグラフに表示します。"
   ]
  },
  {
   "cell_type": "code",
   "execution_count": 10,
   "metadata": {
    "collapsed": false
   },
   "outputs": [
    {
     "data": {
      "text/plain": [
       "<matplotlib.legend.Legend at 0x5dd4610>"
      ]
     },
     "execution_count": 10,
     "metadata": {},
     "output_type": "execute_result"
    },
    {
     "data": {
      "image/png": "[encoded data removed]",
      "text/plain": [
       "<matplotlib.figure.Figure at 0x5dd4510>"
      ]
     },
     "metadata": {},
     "output_type": "display_data"
    }
   ],
   "source": [
    "paramhist.plot().legend(loc=1)"
   ]
  },
  {
   "cell_type": "markdown",
   "metadata": {},
   "source": [
    "### 分類が困難なトレーニングセットの場合"
   ]
  },
  {
   "cell_type": "markdown",
   "metadata": {},
   "source": [
    "先程よりも分散が大きく、分類な困難なトレーニングセットを用意します。"
   ]
  },
  {
   "cell_type": "code",
   "execution_count": 11,
   "metadata": {
    "collapsed": false
   },
   "outputs": [],
   "source": [
    "train_set = prepare_dataset(20, [15,10], 30, 30, [0,0], 30)"
   ]
  },
  {
   "cell_type": "markdown",
   "metadata": {},
   "source": [
    "トレーニングを実施して、結果をグラフに表示します。"
   ]
  },
  {
   "cell_type": "code",
   "execution_count": 12,
   "metadata": {
    "collapsed": false
   },
   "outputs": [
    {
     "data": {
      "image/png": "[encoded data removed]",
      "text/plain": [
       "<matplotlib.figure.Figure at 0x5f6a9d0>"
      ]
     },
     "metadata": {},
     "output_type": "display_data"
    }
   ],
   "source": [
    "paramhist, err_rate = run_train(train_set)\n",
    "fig = plt.figure()\n",
    "subplot = fig.add_subplot(1,1,1)\n",
    "params = paramhist[-1:]\n",
    "w0, w1, w2 = float(params.w0), float(params.w1), float(params.w2)\n",
    "show_result(subplot, train_set, w0, w1, w2, err_rate)"
   ]
  },
  {
   "cell_type": "markdown",
   "metadata": {},
   "source": [
    "同じく、パラメーターの変化をグラフに表示します。"
   ]
  },
  {
   "cell_type": "code",
   "execution_count": 13,
   "metadata": {
    "collapsed": false
   },
   "outputs": [
    {
     "data": {
      "text/plain": [
       "<matplotlib.legend.Legend at 0x5f9f850>"
      ]
     },
     "execution_count": 13,
     "metadata": {},
     "output_type": "execute_result"
    },
    {
     "data": {
      "image/png": "[encoded data removed]",
      "text/plain": [
       "<matplotlib.figure.Figure at 0x5f968d0>"
      ]
     },
     "metadata": {},
     "output_type": "display_data"
    }
   ],
   "source": [
    "paramhist.plot().legend(loc=1)"
   ]
  }
 ],
 "metadata": {
  "kernelspec": {
   "display_name": "Python 2",
   "language": "python",
   "name": "python2"
  },
  "language_info": {
   "codemirror_mode": {
    "name": "ipython",
    "version": 2
   },
   "file_extension": ".py",
   "mimetype": "text/x-python",
   "name": "python",
   "nbconvert_exporter": "python",
   "pygments_lexer": "ipython2",
   "version": "2.7.5"
  }
 },
 "nbformat": 4,
 "nbformat_minor": 0
}
